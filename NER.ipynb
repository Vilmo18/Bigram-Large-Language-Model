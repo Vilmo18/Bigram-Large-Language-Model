{
  "nbformat": 4,
  "nbformat_minor": 0,
  "metadata": {
    "colab": {
      "provenance": [],
      "gpuType": "T4",
      "authorship_tag": "ABX9TyOoIJTUrXynuU/RSHEDkZfw",
      "include_colab_link": true
    },
    "kernelspec": {
      "name": "python3",
      "display_name": "Python 3"
    },
    "language_info": {
      "name": "python"
    },
    "accelerator": "GPU"
  },
  "cells": [
    {
      "cell_type": "markdown",
      "metadata": {
        "id": "view-in-github",
        "colab_type": "text"
      },
      "source": [
        "<a href=\"https://colab.research.google.com/github/Vilmo18/Fine-Tuning-LLMs/blob/main/NER.ipynb\" target=\"_parent\"><img src=\"https://colab.research.google.com/assets/colab-badge.svg\" alt=\"Open In Colab\"/></a>"
      ]
    },
    {
      "cell_type": "code",
      "source": [
        "!pip install flair\n",
        "!pip install datasets"
      ],
      "metadata": {
        "id": "S77zsZak_gUb",
        "colab": {
          "base_uri": "https://localhost:8080/"
        },
        "outputId": "9c652be7-d9e2-4ce0-9a41-4582688e9220"
      },
      "execution_count": null,
      "outputs": [
        {
          "output_type": "stream",
          "name": "stdout",
          "text": [
            "\u001b[31mERROR: Invalid requirement: 'flair!pip'\u001b[0m\u001b[31m\n",
            "\u001b[0m"
          ]
        }
      ]
    },
    {
      "cell_type": "code",
      "execution_count": null,
      "metadata": {
        "id": "B4hkpL34-RqD"
      },
      "outputs": [],
      "source": [
        "from flair.data import Sentence\n",
        "from flair.models import SequenceTagger"
      ]
    },
    {
      "cell_type": "code",
      "source": [
        "tagger = SequenceTagger.load('flair/ner-english-ontonotes-large')"
      ],
      "metadata": {
        "id": "PjISwkqkCur_",
        "colab": {
          "base_uri": "https://localhost:8080/"
        },
        "outputId": "cc04d60d-a786-46d5-c987-80fdd123688a"
      },
      "execution_count": null,
      "outputs": [
        {
          "output_type": "stream",
          "name": "stderr",
          "text": [
            "/usr/local/lib/python3.10/dist-packages/huggingface_hub/utils/_token.py:89: UserWarning: \n",
            "The secret `HF_TOKEN` does not exist in your Colab secrets.\n",
            "To authenticate with the Hugging Face Hub, create a token in your settings tab (https://huggingface.co/settings/tokens), set it as secret in your Google Colab and restart your session.\n",
            "You will be able to reuse this secret in all of your notebooks.\n",
            "Please note that authentication is recommended but still optional to access public models or datasets.\n",
            "  warnings.warn(\n"
          ]
        },
        {
          "output_type": "stream",
          "name": "stdout",
          "text": [
            "2024-06-25 15:52:21,982 SequenceTagger predicts: Dictionary with 76 tags: <unk>, O, B-CARDINAL, E-CARDINAL, S-PERSON, S-CARDINAL, S-PRODUCT, B-PRODUCT, I-PRODUCT, E-PRODUCT, B-WORK_OF_ART, I-WORK_OF_ART, E-WORK_OF_ART, B-PERSON, E-PERSON, S-GPE, B-DATE, I-DATE, E-DATE, S-ORDINAL, S-LANGUAGE, I-PERSON, S-EVENT, S-DATE, B-QUANTITY, E-QUANTITY, S-TIME, B-TIME, I-TIME, E-TIME, B-GPE, E-GPE, S-ORG, I-GPE, S-NORP, B-FAC, I-FAC, E-FAC, B-NORP, E-NORP, S-PERCENT, B-ORG, E-ORG, B-LANGUAGE, E-LANGUAGE, I-CARDINAL, I-ORG, S-WORK_OF_ART, I-QUANTITY, B-MONEY\n"
          ]
        }
      ]
    },
    {
      "cell_type": "code",
      "source": [
        "included_tags = {\n",
        "    \"EVENT\", \"FAC\", \"GPE\", \"LANGUAGE\", \"LAW\", \"LOCATION\", \"NORP\",\n",
        "    \"ORG\", \"PERSON\", \"PRODUCT\", \"WORK_OF_ART\"\n",
        "}\n",
        "\n",
        "excluded_tags = {\n",
        "    \"CARDINAL\", \"DATE\", \"MONEY\", \"ORDINAL\", \"PERCENT\", \"QUANTITY\", \"TIME\"\n",
        "}\n",
        "\n",
        "def anonymize_entities(text):\n",
        "    sentence = Sentence(text)\n",
        "    tagger.predict(sentence)\n",
        "\n",
        "    token_replacements = {}\n",
        "\n",
        "    for entity in sentence.get_spans('ner'):\n",
        "        if entity.tag in included_tags:\n",
        "            #Replace the entity with its tag\n",
        "            token_replacements[(entity.start_position, entity.end_position)] = f\"[{entity.tag}]\"\n",
        "\n",
        "    #Create anonymized text by replacing entities with their tags\n",
        "    anonymized_text = ''\n",
        "    last_idx = 0\n",
        "\n",
        "    for (start, end), replacement in sorted(token_replacements.items()):\n",
        "        anonymized_text += text[last_idx:start] + replacement\n",
        "        last_idx = end\n",
        "\n",
        "    anonymized_text += text[last_idx:]\n",
        "\n",
        "    return anonymized_text\n",
        "\n",
        "\n",
        "text = \"Francesco Totti threatens to quit the Italian Players' Association . The Italy and Roma striker is upset over the early start to the new season . He says: We are the principal actors, but ... are never listened to.\"\n",
        "anonymized_text = anonymize_entities(text)\n",
        "print(anonymized_text)\n"
      ],
      "metadata": {
        "id": "IFjTuRU1Bw9f",
        "colab": {
          "base_uri": "https://localhost:8080/"
        },
        "outputId": "a62a7c1a-0e1c-4834-f27f-ede26593ada1"
      },
      "execution_count": null,
      "outputs": [
        {
          "output_type": "stream",
          "name": "stdout",
          "text": [
            "[PERSON] threatens to quit [ORG] . The [GPE] and [GPE] striker is upset over the early start to the new season . He says: We are the principal actors, but ... are never listened to.\n"
          ]
        }
      ]
    },
    {
      "cell_type": "code",
      "source": [
        "from datasets import load_dataset\n",
        "ds = load_dataset(\"abisee/cnn_dailymail\", \"3.0.0\")"
      ],
      "metadata": {
        "id": "705OivnlC-vF"
      },
      "execution_count": null,
      "outputs": []
    },
    {
      "cell_type": "code",
      "source": [
        "ds"
      ],
      "metadata": {
        "colab": {
          "base_uri": "https://localhost:8080/"
        },
        "id": "4Fj6yD2bHEYj",
        "outputId": "3f2276cb-4844-4cb3-dc13-ae49bad48245"
      },
      "execution_count": null,
      "outputs": [
        {
          "output_type": "execute_result",
          "data": {
            "text/plain": [
              "DatasetDict({\n",
              "    train: Dataset({\n",
              "        features: ['article', 'highlights', 'id'],\n",
              "        num_rows: 287113\n",
              "    })\n",
              "    validation: Dataset({\n",
              "        features: ['article', 'highlights', 'id'],\n",
              "        num_rows: 13368\n",
              "    })\n",
              "    test: Dataset({\n",
              "        features: ['article', 'highlights', 'id'],\n",
              "        num_rows: 11490\n",
              "    })\n",
              "})"
            ]
          },
          "metadata": {},
          "execution_count": 11
        }
      ]
    },
    {
      "cell_type": "code",
      "source": [
        "with open(\"article.txt\", \"w\") as articles , open(\"highlights.txt\", \"w\") as highlights:\n",
        "    for it in ds[\"train\"]:\n",
        "        articles.write(it[\"article\"] + \"\\n\")\n",
        "        highlights.write(it[\"highlights\"] + \"\\n\")"
      ],
      "metadata": {
        "id": "XKrfZWWrG9mb"
      },
      "execution_count": null,
      "outputs": []
    },
    {
      "cell_type": "code",
      "source": [
        "!pip install sentencepiece"
      ],
      "metadata": {
        "id": "i9K3Qb48LFqg",
        "colab": {
          "base_uri": "https://localhost:8080/"
        },
        "outputId": "eb46cb7e-ed09-4791-a51d-f5a8ef9422e1"
      },
      "execution_count": null,
      "outputs": [
        {
          "output_type": "stream",
          "name": "stdout",
          "text": [
            "Requirement already satisfied: sentencepiece in /usr/local/lib/python3.10/dist-packages (0.1.99)\n"
          ]
        }
      ]
    },
    {
      "cell_type": "code",
      "source": [
        "!wget https://raw.githubusercontent.com/google/sentencepiece/master/data/botchan.txt"
      ],
      "metadata": {
        "colab": {
          "base_uri": "https://localhost:8080/"
        },
        "id": "atmjyvtjjy8Z",
        "outputId": "50692e9b-f243-4e2c-bd2d-ccb47a5e3d3b"
      },
      "execution_count": null,
      "outputs": [
        {
          "output_type": "stream",
          "name": "stdout",
          "text": [
            "--2024-06-25 15:53:02--  https://raw.githubusercontent.com/google/sentencepiece/master/data/botchan.txt\n",
            "Resolving raw.githubusercontent.com (raw.githubusercontent.com)... 185.199.108.133, 185.199.109.133, 185.199.110.133, ...\n",
            "Connecting to raw.githubusercontent.com (raw.githubusercontent.com)|185.199.108.133|:443... connected.\n",
            "HTTP request sent, awaiting response... 200 OK\n",
            "Length: 278779 (272K) [text/plain]\n",
            "Saving to: ‘botchan.txt.1’\n",
            "\n",
            "botchan.txt.1       100%[===================>] 272.25K  --.-KB/s    in 0.03s   \n",
            "\n",
            "2024-06-25 15:53:02 (9.36 MB/s) - ‘botchan.txt.1’ saved [278779/278779]\n",
            "\n"
          ]
        }
      ]
    },
    {
      "cell_type": "code",
      "source": [
        "import sentencepiece as spm\n",
        "\n",
        "# train sentencepiece model from `botchan.txt` and makes `m.model` and `m.vocab`\n",
        "# `m.vocab` is just a reference. not used in the segmentation.\n",
        "spm.SentencePieceTrainer.train('--input=highlights.txt')\n",
        "\n",
        "# makes segmenter instance and loads the model file (m.model)\n",
        "sp = spm.SentencePieceProcessor()\n",
        "sp.load('m.model')\n",
        "\n",
        "# encode: text => id\n",
        "print(sp.encode_as_pieces('This is a test'))\n",
        "print(sp.encode_as_ids('This is a test'))\n",
        "\n",
        "# decode: id => text\n",
        "print(sp.decode_pieces(['▁This', '▁is', '▁a', '▁t', 'est']))\n",
        "print(sp.decode_ids([208, 31, 9, 434, 601]))"
      ],
      "metadata": {
        "id": "3lCSlZvDhkTj"
      },
      "execution_count": null,
      "outputs": []
    },
    {
      "cell_type": "code",
      "source": [
        "# encode: text => id\n",
        "print(sp.encode_as_pieces(anonymized_text))"
      ],
      "metadata": {
        "colab": {
          "base_uri": "https://localhost:8080/"
        },
        "id": "IG-sfLKLGmk8",
        "outputId": "00194cd0-3dba-4464-cff1-fa10994d4653"
      },
      "execution_count": null,
      "outputs": [
        {
          "output_type": "stream",
          "name": "stdout",
          "text": [
            "['▁', '[', 'P', 'E', 'R', 'S', 'O', 'N', ']', '▁threat', 'en', 's', '▁to', '▁', 'qui', 't', '▁', '[', 'O', 'R', 'G', ']', '▁.', '▁The', '▁', '[', 'G', 'P', 'E', ']', '▁and', '▁', '[', 'G', 'P', 'E', ']', '▁striker', '▁is', '▁up', 's', 'et', '▁over', '▁the', '▁early', '▁start', '▁to', '▁the', '▁new', '▁season', '▁.', '▁He', '▁says', ':', '▁We', '▁are', '▁the', '▁p', 'ri', 'n', 'ci', 'p', 'al', '▁a', 'ctor', 's', ',', '▁but', '▁', '...', '▁are', '▁never', '▁list', 'en', 'ed', '▁to', '.']\n"
          ]
        }
      ]
    },
    {
      "cell_type": "code",
      "source": [
        "anonymized_text"
      ],
      "metadata": {
        "id": "AEu00FJYh7o2",
        "colab": {
          "base_uri": "https://localhost:8080/",
          "height": 52
        },
        "outputId": "da06c2a9-8542-4a6b-b10e-86ff57755b31"
      },
      "execution_count": null,
      "outputs": [
        {
          "output_type": "execute_result",
          "data": {
            "text/plain": [
              "'[PERSON] threatens to quit [ORG] . The [GPE] and [GPE] striker is upset over the early start to the new season . He says: We are the principal actors, but ... are never listened to.'"
            ],
            "application/vnd.google.colaboratory.intrinsic+json": {
              "type": "string"
            }
          },
          "metadata": {},
          "execution_count": 24
        }
      ]
    },
    {
      "cell_type": "code",
      "source": [],
      "metadata": {
        "id": "riTiP92_WKZK"
      },
      "execution_count": null,
      "outputs": []
    }
  ]
}